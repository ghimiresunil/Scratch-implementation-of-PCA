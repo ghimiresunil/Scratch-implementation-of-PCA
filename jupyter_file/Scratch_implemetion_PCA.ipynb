{
 "cells": [
  {
   "cell_type": "markdown",
   "metadata": {},
   "source": [
    "# CourseWork 1: Scratch Implementation of PCA"
   ]
  },
  {
   "cell_type": "markdown",
   "metadata": {},
   "source": [
    "This coursework accounts for 30% of the total mark for the module, 6CS012 (Artificial Intelligence & Machine Learning)"
   ]
  },
  {
   "cell_type": "markdown",
   "metadata": {},
   "source": [
    "Read the instructions carefully and do whatever necessary. Your original ideas are highly appreciated :)"
   ]
  },
  {
   "cell_type": "markdown",
   "metadata": {},
   "source": [
    "## Student Name:Sunil Ghimire     Student ID: 1928584"
   ]
  },
  {
   "cell_type": "markdown",
   "metadata": {},
   "source": [
    "Read about the 'Principal Component Analysis'. <br>\n",
    "Recommended Video: https://www.youtube.com/watch?v=FgakZw6K1QQ  <br>\n",
    "Online Course (Coursera): https://www.coursera.org/learn/pca-machine-learning       "
   ]
  },
  {
   "cell_type": "markdown",
   "metadata": {},
   "source": [
    "## What is \"Dimensionality Reduction Problem\"? Why is it necessary in Machine Learning?"
   ]
  },
  {
   "cell_type": "markdown",
   "metadata": {},
   "source": [
    "Ans: \n",
    "\n",
    "Machine learning is nothing but a research area that allows machines to “read” like humans without any need for specific programming.  \n",
    "\n",
    "\n",
    "Predictive modelling is known as predictive analysis that attempts to forecast future events or outcomes by evaluating trends that are likely to predict future outcomes. The aim of predictive modelling is to address these questions: “What will most possibly happen in the future, based on observed historical behaviour”? \n",
    "\n",
    "\n",
    "After the concept of machine learning and predictive modelling, there is another term known as dimensionality reduction. So, problems with classification in machine learning often involve too many factors on the basis of which final classification is done and these factors are basically variables called features and if there is a higher number of features in the dataset then the more difficult it gets to visualize and work on the training set. Sometimes, most of these features present in the given dataset are correlated with each other and therefore redundant. So, this is the main reason that algorithms of dimensionality reduction come into action to avoid redundant and correlation of features in the dataset. Thus, in statistics, machine learning and information theory, dimensionality reduction or dimension reduction refers to the techniques that can reduce the number of input variables in a dataset. In another word,  dimensionality reduction is the process of reducing the number of random variables under consideration by obtaining the set or principal variables  More input variables in the dataset often make a predictive modelling task more challenging or difficult handle model which is more generally referred to as the curse of dimensionality. While dimensionality reduction techniques are often used for data visualization on high-dimensionality statistics, such techniques can be used in applied machine learning to simplify a dataset of classification or regression to match a predictive model better. \n",
    "\n",
    "\n",
    "Dimensionality reduction approaches can be divided into feature selection and feature extraction.  \n",
    "\n",
    "\n",
    "Feature selection approaches try to find features or attributes of the dataset also called the subset of the input variables The three strategies are \n",
    "The filter strategy (Example: Information Gain)\n",
    "The wrapper strategy (Example: Search Guide by accuracy)\n",
    "The embedded strategy (Example: Selection features or removed features while building the model based on prediction error.)\n",
    "Similarly, feature extraction is also known as feature projection transforms the data from a high dimensional space into lesser dimensional space. Data transformation may be linear as in the case with principal component analysis (simply called PCA), but there are also many techniques of non-linear dimension reduction. Tensor representation may be used for multidimensional data in the reduction of dimensionality by multilinear subspace learning.\n",
    "\n",
    "\n",
    "An intuitive example of dimensionality reduction can be discussed through a simple fraud classification problem, whether we need to classify whether the credit card is fraud or genuine. This can involve a large number of features, such as time, amount of money, type of account (saving or current account) and many more features. Any of these features can therefore overlap. In another case, a classification issue that relies on both humidity and rainfall that collapse into only one underlying feature, because both of these are strongly correlated. So, in such problems, we can reduce the number of features. It might sound trivial but is an essential part of the machine learning model. Too much dimension acts as noise to our machine learning model, hence it is vital in many cases to use dimension reduction.\n",
    "\n",
    "\n",
    "1. More dimension may function as a noise rather than a feature, and the performance value might not be connected to any aspect. Hence, decision making is all random weight.\n",
    "\n",
    "\n",
    "2. Less number of dimensions implies less number of parameters to learn and hence results in a faster and efficient model generally. Sometimes a huge number of dimensions cause noise and the model learns nothing. \n",
    "\n",
    "\n",
    "3. In tabular data, when the column decreases, then the number of rows needed to learn is also decreased in most cases. \n",
    "\n",
    "\n",
    "4. Two-dimensional mapping is also used to simplify the representation of high dimensional datasets.\n",
    "\n",
    "\n",
    "5. When the dimensions can be interpreted meaningfully, projection can be used along that dimension to explain certain behaviours.\n",
    "\n",
    "\n",
    "Several techniques involve in dimension reduction are listed below:\n",
    "\n",
    "\n",
    "1. Dimension reduction by feature elimination\n",
    "\n",
    "\n",
    "2. Dimension reduction by Matrix Factorization\n",
    "\n",
    "\n",
    "3. Dimension reduction by projection-based techniques.\n",
    "\n",
    "\n",
    "Advantage of  Dimensionality Reduction are listed below:\n",
    "\n",
    "1. It helps in data compression and hence reduced storage space.\n",
    "\n",
    "\n",
    "2. It reduces the computation time.\n",
    "\n",
    "\n",
    "3. It also helps to remove redundant features. \n",
    "\n",
    "\n",
    "Disadvantages of Dimensionality Reduction are listed below:\n",
    "\n",
    "\n",
    "1. It may lead to some amount of data loss.\n",
    "\n",
    "\n",
    "2. PCA trends to find linear correlations between variables, which is sometimes undesirable\n",
    "\n",
    "\n",
    "3. PCA fails in cases where mean and covariance are not enough to define datasets.\n",
    "\n",
    "\n",
    "4. We may not know how principal components to keep - in practice, some thumbs rules are applied. \n",
    "\n",
    "\n",
    "Methods of dimensionality reduction are listed below:\n",
    "\n",
    "\n",
    "1. Principal Component Analysis (PCA)\n",
    "\n",
    "\n",
    "2. Linear Discriminant Analysis (LDA)\n",
    "\n",
    "\n",
    "3. Generalized Discriminant Analysis (GDA)\n"
   ]
  },
  {
   "cell_type": "markdown",
   "metadata": {},
   "source": [
    "## What is PCA? Discuss few applications in Machine Learning... "
   ]
  },
  {
   "cell_type": "markdown",
   "metadata": {},
   "source": [
    "Ans: \n",
    "PCA which is an unsupervised and non-parametric statistical technique primarily used to minimize the dimensionality of a dataset of many variables correlated with each other by maximum retention of variation present in the dataset.\n",
    "\n",
    "\n",
    "The variables are transformed into a new set of variables called principal components and orthogonally ordered such that the retention of variation present in the original variables decreases as we move down in the order, this was 1st principal component (PC1) has maximum variation. In this way, PCA is used in machine learning for predictive models and data analysis.  Also, some of the reason how PCA is used in machine learning are listed below:\n",
    "\n",
    "\n",
    "1. We can visualize the large complex data in lower-dimensional space.\n",
    "\n",
    "\n",
    "2. We can eliminate the unnecessary features. So, we can reduce the original feature space to a lower-dimensional space that greatly reduces the computing resources. \n",
    "\n",
    "\n",
    "3. We can use it as a feature selection technique\n",
    "\n",
    "\n",
    "4. We can use the principal components as input for supervised learning problems.\n",
    "\n",
    "\n",
    "5. In machine learning, it helps to solve the curse of dimensionality problem. If n-sample is dense enough for 1D (only one feature0), then in dd dimension we need n^d samples. n^d grows really fast as a function of d. We can reduce the dimension of data using PCA. \n",
    "\n",
    "\n",
    "6. PCA is a basic method of studying any data type like time series, photographs (eigenfaces), etc. This offers an \"explanation\" of an input-data focused on the key components and on the classification that you may do.\n"
   ]
  },
  {
   "cell_type": "markdown",
   "metadata": {},
   "source": [
    "## Write Short notes on the following topics:<br>\n",
    "\n",
    "### a) Variance & Covariance <br>\n",
    "\n",
    "##### Variance\n",
    "\n",
    "Variance $(σ^2)$ is statistics is a measurement of the difference numbers in a data collection. Thus, it calculates how far each number in the set is from the mean and therefore from every other number in the set. \n",
    "Note:\n",
    "1. Variance is used to compare the relative performance of difference number in a data collection\n",
    "\n",
    "2. Because the results can be difficult to understand, standard deviation is often used instead of variance.\n",
    "\n",
    "3. In either case, the goal for the investor is to improve asset allocation.\n",
    "\n",
    "Variance is calculated by taking differences between each number in the data set and the mean, then squaring the differences to make positive, and finally dividing the sum of the squares by the number  of values in the data set.\n",
    "\n",
    "The formula for variance is \n",
    "Variance $(σ^2)$ = $\\frac{\\sum_{i = 1 }^{n} (x_i​− \\bar{x})^2}{n}$\n",
    "\n",
    "Where, \n",
    "\n",
    "xi = the ith data point\n",
    "\n",
    "x = the mean of all data points \n",
    "\n",
    "n = the number of data points\n",
    "\n",
    "\n",
    "The square root of the variance is the standard deviation (σ).\n",
    "Variance measures variability from the average or mean. Variability is the volatile or variance is the risk factor. The variance statistics  can thus help to determine the risk that an investor assumes when purchasing a specific security. The large variance means that the numbers in the sample are far from the mean and from each other, while the reverse implies a low variance. Variance can be negative. A variance with the value 0 indicates that all values within a series of numbers are the same. And all the variance that are not zero will be positive numbers. \n",
    "\n",
    "\n",
    "The advantage of variance is that any deviation from the mean is handled the same irrespective position. The squared variations can not add up to zero, providing the impression of no variations in the results at all. \n",
    "\n",
    "\n",
    "The disadvantages of variance is that it is not easily interpreted. Users of variance often employ it primarily to take the square root of their value which indicates the standard deviation of the dataset. \n",
    "\n",
    "\n",
    "##### Covariance\n",
    "\n",
    "The measure of the simultaneous variation between the random variables X and Y is called co-variance, written by $cov(x,y)$ or $σ_{xy}$The covariance of two statistically independent random variables X and Y is zero. The converse, however, is not generally true i.e. Two variables may have zero covariance and still not be statistically independent. Covariance is calculated by analyzing at-return surprises (standard deviations from the expected return) or by multiplying the correlation between two variables by the standard deviation of each variable. \n",
    "\n",
    "\n",
    "Note:\n",
    "\n",
    "1. Covariance is the statistical method used to evaluate the relation between movement of two independent variables. \n",
    "2. When the two independent variables tend to move together, they are seen as having a positive covariance and when they move inversely the covariance is negative. \n",
    "3. Risk and volatility can be reduced in two independent variables that have a negative covariance. \n",
    "\n",
    "Covariance can be calculated using 5 variables from the data. They are:\n",
    "\n",
    "$x_i$ = a given x value in the dataset\n",
    "\n",
    "$x_m$ = the mean, or average of the x values\n",
    "\n",
    "$y_i$ =  the y value in the dataset that corresponds with $x_i$\n",
    "\n",
    "$y_m$ = the mean, or average of the y values\n",
    "\n",
    "n = the number of data points.\n",
    "Form the above information, the formula of covariance is \n",
    "\n",
    "$$cov(x,y) = ∑(x_i - x_m) (y_i- y_m)$$ \n"
   ]
  },
  {
   "cell_type": "markdown",
   "metadata": {},
   "source": [
    "### b) Eigenvalues & Eigenvectors\n",
    "\n",
    "#### Eigenvector\n",
    "\n",
    "An eigenvector is a vector whose direction remains unchanged when linear transformation is applied to it. In another word, eigenvectors are unit vectors, which means that their length or magnitude is equal to 1 that is often referred as right vectors which simply means the column vectors (as opposed to a row vector or a left vector) \n",
    "\n",
    "#### Eigenvalues\n",
    "\n",
    "An eigenvalue is a special set of scalars associated with a linear system of  equations (i.e. a matrix equation) that are sometimes known as characteristic roots. In another word, eigenvalues are coefficients applied to eigenvectors that give the vectors their length or magnitude. For example, negative eigenvalue may reverse the direction of the eigenvector as part of scaling it. \n",
    "\n",
    "For example\n",
    "\n",
    "$                    \n",
    "\\begin{bmatrix} \n",
    "0 & 1  \\\\\n",
    "-2 & -3 \\\\\n",
    "\\end{bmatrix} \n",
    "\\quad\n",
    "$ $                    \n",
    "\\begin{bmatrix} \n",
    " 1  \\\\\n",
    " 2 \\\\\n",
    "\\end{bmatrix} \n",
    "\\quad\n",
    "$ = 2 $                    \n",
    "\\begin{bmatrix} \n",
    "1  \\\\\n",
    "-4 \\\\\n",
    "\\end{bmatrix} \n",
    "\\quad\n",
    "$\n",
    "\n",
    "which is in the form Ax = λx \n",
    "\n",
    "where x--> eigenvector(proper vector)\n",
    "\n",
    "      y--> eigenvalues(proper value)  \n",
    "\n",
    "Given;\n",
    "A =  $                    \n",
    "\\begin{bmatrix} \n",
    "3 & 1  \\\\\n",
    "1 & 3 \\\\\n",
    "\\end{bmatrix}\n",
    "\\quad\n",
    "$\n",
    "\n",
    "$A - λI$ =  $                    \n",
    "\\begin{bmatrix} \n",
    "3 & 1  \\\\\n",
    "1 & 3 \\\\\n",
    "\\end{bmatrix}  \n",
    " - \\quad$ λ $                    \n",
    "\\begin{bmatrix} \n",
    "1 & 0  \\\\\n",
    "0 & 1 \\\\\n",
    "\\end{bmatrix}\n",
    "\\quad\n",
    "$\n",
    "\n",
    "\n",
    "= $                    \n",
    "\\begin{bmatrix} \n",
    "3 & 1  \\\\\n",
    "1 & 3 \\\\\n",
    "\\end{bmatrix}  \n",
    " - \\quad$  $                    \n",
    "\\begin{bmatrix} \n",
    "λ & 0  \\\\\n",
    "0 & λ \\\\\n",
    "\\end{bmatrix}\n",
    "\\quad\n",
    "$\n",
    "\n",
    "\n",
    "= $                    \n",
    "\\begin{bmatrix} \n",
    "3 - λ  & 1  \\\\\n",
    "1 & 3-λ\\\\\n",
    "\\end{bmatrix}  \n",
    "\\quad$ \n",
    "\n",
    "Now, we know\n",
    "\n",
    "$(A - λI)x = 0$ \n",
    "\n",
    "$|A - λI| = 0 $ is characteristics of matrix where λ is eigenvalue of A\n",
    "\n",
    "$                    \n",
    "\\begin{vmatrix} \n",
    "3 - λ  & 1  \\\\\n",
    "1 & 3-λ\\\\\n",
    "\\end{vmatrix} = 0 \\notag\n",
    "\\quad$ \n",
    "\n",
    "= $ (3 - λ ) ^ 2 - 1$\n",
    "= $ λ^2 - 6λ + 8 $\n",
    "\n",
    "Therefore, $λ_1$ = 4 and $λ_2$ = 2\n",
    "\n",
    "When $λ_1$ = 4, then \n",
    "\n",
    "$(A - λI)x = 0$\n",
    "\n",
    "\n",
    "= $                    \n",
    "\\begin{bmatrix} \n",
    "3 - λ & 1  \\\\\n",
    "1 & 3 - λ\\\\\n",
    "\\end{bmatrix}  \n",
    "\\quad$\n",
    "$                    \n",
    "\\begin{bmatrix} \n",
    "x\\\\\n",
    "y\\\\\n",
    "\\end{bmatrix} =   \n",
    " \\quad$\n",
    "$                    \n",
    "\\begin{bmatrix} \n",
    "0\\\\\n",
    "0\\\\\n",
    "\\end{bmatrix}   \n",
    " \\quad$\n",
    " \n",
    "= $                    \n",
    "\\begin{bmatrix} \n",
    "-1 & 1  \\\\\n",
    "1 & -1\\\\\n",
    "\\end{bmatrix}  \n",
    "\\quad$\n",
    "$                    \n",
    "\\begin{bmatrix} \n",
    "x\\\\\n",
    "y\\\\\n",
    "\\end{bmatrix} =   \n",
    " \\quad$\n",
    "$                    \n",
    "\\begin{bmatrix} \n",
    "0\\\\\n",
    "0\\\\\n",
    "\\end{bmatrix}   \n",
    " \\quad$\n",
    " \n",
    "or, $- x + y = 0 $ <br>\n",
    "or, $ x - y = 0 $\n",
    "\n",
    "so, $ x = y$\n",
    "\n",
    "The eigenvector for eigenvalue($λ_1$ = 4) is $\\begin{bmatrix} \n",
    "1\\\\\n",
    "1\\\\\n",
    "\\end{bmatrix}   \n",
    " \\quad$\n",
    "\n",
    "When $λ_2$ = 2\n",
    "\n",
    "= $                    \n",
    "\\begin{bmatrix} \n",
    "3 - λ & 1  \\\\\n",
    "1 & 3 - λ\\\\\n",
    "\\end{bmatrix}  \n",
    "\\quad$\n",
    "$                    \n",
    "\\begin{bmatrix} \n",
    "x\\\\\n",
    "y\\\\\n",
    "\\end{bmatrix} =   \n",
    " \\quad$\n",
    "$                    \n",
    "\\begin{bmatrix} \n",
    "0\\\\\n",
    "0\\\\\n",
    "\\end{bmatrix}   \n",
    " \\quad$\n",
    "\n",
    "= $                    \n",
    "\\begin{bmatrix} \n",
    "3 - 2  & 1  \\\\\n",
    "1 & 3 - 2\\\\\n",
    "\\end{bmatrix}  \n",
    "\\quad$\n",
    "$                    \n",
    "\\begin{bmatrix} \n",
    "x\\\\\n",
    "y\\\\\n",
    "\\end{bmatrix} =   \n",
    " \\quad$\n",
    "$                    \n",
    "\\begin{bmatrix} \n",
    "0\\\\\n",
    "0\\\\\n",
    "\\end{bmatrix}   \n",
    " \\quad$\n",
    " \n",
    "= $                    \n",
    "\\begin{bmatrix} \n",
    "1 & 1  \\\\\n",
    "1 & 1\\\\\n",
    "\\end{bmatrix}  \n",
    "\\quad$\n",
    "$                    \n",
    "\\begin{bmatrix} \n",
    "x\\\\\n",
    "y\\\\\n",
    "\\end{bmatrix} =   \n",
    " \\quad$\n",
    "$                    \n",
    "\\begin{bmatrix} \n",
    "0\\\\\n",
    "0\\\\\n",
    "\\end{bmatrix}   \n",
    " \\quad$\n",
    "\n",
    "So, we get \n",
    "$ x + y = 0$ and $ x + y = 0$ \n",
    "\n",
    "which means $ x =  -y $ \n",
    "The eigenvector for eigenvalue($λ_2$ = 2) is $\\begin{bmatrix} \n",
    "1\\\\\n",
    "-1\\\\\n",
    "\\end{bmatrix}   \n",
    " \\quad$\n",
    " \n",
    "So, for each eigenvalue λ. Now, every system will have infinetely value solutions beacause if x is the eigenvector. So is and multiple of x. So, our strategy will be try to find the eigenvector with x = 1 and necessary. We can scale up the value. If there is no such eigenvector, we know that x must in fact be zero, and we instead look for the eigenvector with y = 1 and so on."
   ]
  },
  {
   "cell_type": "markdown",
   "metadata": {},
   "source": [
    "### c) Eigen-value decomposition\n",
    "\n",
    "Matrix decompositions are a more useful technique to simplify a range of more complicated operations for reducing a matrix to their constituent parts which analyzes the structure of the matrix. Even the eigen-decomposition does not exist for all square matrices, it has  a particularly simple expression for a class of matrices often used in multivariate analysis such as correlation, covariance, or cross-product matrices  So, the most powerful used matrix decomposition is known as eigenvalue decompositions that decompose a matrix into eigenvectors and eigenvalues and such type of decomposition also plays an important role in machine learning as in principal component analysis method (PCA). \n",
    "\n",
    "\n",
    "The eigen-decomposition is important because it is involved in problems of optimization.  Problems of optimization can be easily solved using eigenvalue decomposition. For example, in PCA, we want to analyze an I × J matrix X where the rows are observations and the columns are variables describing these observations. The goal of analysis is to find row factor scores, such that these factor scores “explain” as much of the variance of X as possible, and such that the sets of factor scores are pairwise orthogonal. \n",
    "The eigenvectors of a matrix is given below\n",
    "\n",
    "\n",
    "$Ax - λIx = 0$\n",
    "\n",
    "\n",
    "$ (A − λI )x = 0 $ .............(ii)\n",
    "\n",
    "where I is the identity matrix. The values of λ holds the eigenvalues of A. It turns out that the equation is equivalent to:\n",
    "\n",
    "$det(A- λI) = 0 $, ......... (iii)\n",
    "\n",
    "where $det()$ is the determinant of a matrix.\n",
    "\n",
    "\n",
    "Let's see the eigendecomposition for the matrix:\n",
    "$                    \n",
    "\\begin{bmatrix} \n",
    "1  & 0  \\\\\n",
    "1 & 3\\\n",
    "\\end{bmatrix}  \n",
    "\\quad$\n",
    "\n",
    "From (3)\n",
    "\n",
    "\n",
    "$                    \n",
    "\\begin{vmatrix} \n",
    "1-λ  & 0  \\\\\n",
    "1 & 3-λ\\\n",
    "\\end{vmatrix}  \n",
    "\\quad = 0 $ \n",
    "\n",
    "\n",
    "$(1 - λ) (3 - λ) = 0 $\n",
    "\n",
    "we  get directly, $λ_1 = 1 $ and $λ_2 = 3 $. The above expression is usually referred as characteristic equation of matrix.\n",
    "\n",
    "\n",
    "Plugging $λ_1$ into (1), we get:\n",
    "\n",
    "= $                    \n",
    "\\begin{bmatrix} \n",
    "1 & 0  \\\\\n",
    "1 & 3\\\\\n",
    "\\end{bmatrix}  \n",
    "\\quad$\n",
    "$                    \n",
    "\\begin{bmatrix} \n",
    "x_1\\\\\n",
    "y_1\\\\\n",
    "\\end{bmatrix} =   \n",
    " \\quad$ 1\n",
    "$                    \n",
    "\\begin{bmatrix} \n",
    "x_1\\\\\n",
    "y_1\\\\\n",
    "\\end{bmatrix}   \n",
    " \\quad$\n",
    "\n",
    "\n",
    "from which we get $x_1$ = -2$y_1$. That us , any vector $x_1$ = $[x_1 , y_1]$ where $x_1$ = $-2y_1$ is an eigenvector of $A$ with eigenvelue 1.\n",
    "\n",
    "Plugging $λ_2$ into (1), we get.\n",
    "\n",
    "= $                    \n",
    "\\begin{bmatrix} \n",
    "1 & 0  \\\\\n",
    "1 & 3\\\\\n",
    "\\end{bmatrix}  \n",
    "\\quad$\n",
    "$                    \n",
    "\\begin{bmatrix} \n",
    "x_2\\\\\n",
    "y_2\\\\\n",
    "\\end{bmatrix} =   \n",
    " \\quad$ 3 \n",
    "$                    \n",
    "\\begin{bmatrix} \n",
    "x_2\\\\\n",
    "y_2\\\\\n",
    "\\end{bmatrix}   \n",
    " \\quad$\n",
    "\n",
    "\n",
    "from which we get $x_2 = 0$ and $y_2∈R$. That is vector $y = [x_2, y_2 ]$ where $x_2 = 0$ is an eigenvector of $A$ with eigenvalue 3.\n",
    "\n",
    "#### Why is eigendecomposition is useful?\n",
    "\n",
    "$A$[$ v_1 $$v_2 $] = $                    \n",
    "\\begin{bmatrix} \n",
    "1 & 0\\\\\n",
    "1 & 3 \\\\\n",
    "\\end{bmatrix}   \n",
    " \\quad$  $                    \n",
    "\\begin{bmatrix} \n",
    "X_1 & Y_1\\\\\n",
    "Y_1 & Y_2 \\\\\n",
    "\\end{bmatrix}   \n",
    " \\quad$  =  $                    \n",
    "\\begin{bmatrix} \n",
    "X_1 & X_2\\\\\n",
    "Y_1 & Y_2 \\\\\n",
    "\\end{bmatrix}   \n",
    " \\quad$  $                    \n",
    "\\begin{bmatrix} \n",
    "λ_1 & 0\\\\\n",
    "0 & λ_2 \\\\\n",
    "\\end{bmatrix}   \n",
    " \\quad$ = [$ v_1 $$v_2 $]  $                    \n",
    "\\begin{bmatrix} \n",
    "λ_1 & 0\\\\\n",
    "0 & λ_2 \\\\\n",
    "\\end{bmatrix}   \n",
    " \\quad$\n",
    "\n",
    "$Λ$ =  $                   \n",
    "\\begin{bmatrix} \n",
    "λ_1 & 0\\\\\n",
    "0 & λ_2 \\\\\n",
    "\\end{bmatrix}   \n",
    " \\quad$\n",
    "\n",
    "$V$ = [$ v_1 $$v_2 $] \n",
    "\n",
    "$AV$ = $VΛ$\n",
    "\n",
    "$A$ = $VΛV^{-1}$ ---------------- (4)\n",
    "\n",
    "Eigendecomposition decomposes a matrix A into a multiplication of a matrix of a eigenvectors V and a diagonal matrix of eigenvalues Λ. This can be done of a mtrix is  diagonalizable. In fact, the direction of a diagonal of of a diagonalizable matrix $A R^{n×n}$ is that it can be eigendecomposed into n eigenvectors. so that $V^{-1}AV = Λ$. \n",
    "\n",
    "\n",
    "Matrix inverse with eigendecomposition\n",
    "\n",
    "from (4)\n",
    "$$A^{−1}=VΛ^{−1} V^{−1}$$\n",
    "\n",
    "\n",
    "The inverse of $Λ$ is just the inverse of each diagonal element (the eigenvalues).\n",
    "\n",
    "Power of a matrix with eigendecomposition \n",
    "\n",
    "from(4):\n",
    "\n",
    "$$A^2=VΛV^{−1}VΛV^{−1}=VΛ^2V^{−1}$$\n",
    "$$ A^{n}=VΛ^{n}V^{−1}$$\n",
    "\n",
    "The power of $Λ$ is just the power of each diagonal element. This becomes much simpler than multiplications of $A$."
   ]
  },
  {
   "cell_type": "markdown",
   "metadata": {},
   "source": [
    "#### d) Singular-value decomposition\n",
    "\n",
    "Single Value Decomposition simply known as SVD is the factorization of real or complex matrix that generalizes the eigendecomposition of a square normal matrix to any matrix via an extension of polar decomposition whereas the polar decomposition of a square real or complex matrix is any general deformation that can be uniquely decomposed into a rotation followed by a scratch component, or the stretch component followed by a rotation.  \n",
    "\n",
    "$F = RU = vR$\n",
    "\n",
    "\n",
    "Where\n",
    "F is the deformation gradient,\n",
    "\n",
    "R is the rotation tensor, which is orthogonal, $(R^{−1} =R^{⊤})$ and volume conserving $(det R=1)$,\n",
    "\n",
    "U is the right stretch tensor, which is positive definite and symmetric $(U =U^⊤)$,\n",
    "\n",
    "v is the left stretch tensor, which is positive definite and symmetric $(v =v^⊤)$.\n",
    "\n",
    "\n",
    "If a matrix $A$ has a matrix of eigenvalues $P$ that is not invertible,\n",
    "\n",
    "For example,\n",
    "$                        \n",
    "\\begin{bmatrix} \n",
    "1 & 1 \\\\\n",
    "0 & 1\\\\\n",
    "\\end{bmatrix} $\n",
    "has the non-invertible system of eigenvectors\n",
    "$\n",
    "\\begin{bmatrix} \n",
    "1 & 0 \\\\\n",
    "0 & 0\\\\\n",
    "\\end{bmatrix}$  \n",
    ", \n",
    "then A does not have an eigen decomposition. \n",
    "However, if A is an $m×n$ real matrix with $ m > n $, \n",
    "then A can be written using a so called singular value decomposition of the form.\n",
    "\n",
    " $A=UDV^T$ \n",
    " \n",
    "Note that there are several conflicting notational conventions in use in the literature where $U$ to be an  $m×n$ matrix, \n",
    "\n",
    "$D$ as $n×n$,\n",
    "\n",
    "$V$ as $n×n$. However, \n",
    "\n",
    "the Wolfram Language defines $U$ as an $m×m$ , \n",
    "\n",
    "$D$ as $m×n$, and $V$ as $n×n$. \n",
    "\n",
    "\n",
    "In both systems, $U$ and $V$ have orthogonal columns so that\n",
    "\n",
    "$U^TU = I$\n",
    "\n",
    "and \n",
    "\n",
    "$V^TV = I$\n",
    "\n",
    "Note: The tow identity matrixes may have different dimensions and D has entries only along the diagonal.\n",
    "\n",
    "$A = UDV^H$\n",
    "\n",
    "where $U$ and $V$ are unitary matrix, \n",
    "\n",
    "$V^H$ is the conjugate transpose of $V$,\n",
    "\n",
    "$D$ is a diagonal matrix whose elements are the singular values of the original matrix. \n",
    "\n",
    "\n",
    "If $A$ is a complex matrix, then there always exists such a decomposition with positive singular values.\n",
    "\n",
    "\n",
    "Singular value decomposition is implemented in the Wolfram Language as Singular Value Decomposition which retruns a $list[U,D,V]$, where $U$ and $V$ are matrices and $D$ is a diagonal matrix made up of the  singular values of $m$."
   ]
  },
  {
   "cell_type": "markdown",
   "metadata": {},
   "source": [
    "#### e) EVD vs SVD\n",
    "\n",
    "From the short notes c and d, some of the differences of EVD and SVD are listed below:\n",
    "\n",
    "1. THe EVD uses two different bases, i.e. the eigenvectors. while the SVD uses two different bases, the left and right singular vectors.\n",
    "\n",
    "\n",
    "2. The basis of the eigendecomposition is not necesssarily orthogonal, the eigenbasis of the SVD is orthogonal\n",
    "\n",
    "\n",
    "3. Every matrix has a SVD, it does not need to be square ot fullfill any other requirements. On the other hand, not even every square matrix has an eigendecomposition, that is a fundamental difference that makes the SVD very powerful.\n"
   ]
  },
  {
   "cell_type": "markdown",
   "metadata": {},
   "source": [
    "#### f) Orthogonal Projection\n",
    "\n",
    "Orthogonal Projection is the means of representing 3D objects 2D which is the form of parallel projection, in which all the projection lines are orthogonal to the projection plane, resulting in every plane plane of the scene appearing in affine transformation on the viewing surface. In another word, orthogonal projection is the representation of an object in which the projecting lines are at right angles to the plane of the projection. \n",
    "\n",
    "The simple description of orthogonal projection is to remove one coordinate i.e. last coordinate. \n",
    "\n",
    "$ For$ $example$ $(4,5,9)$ $→$ $(4,5) $\n",
    "\n",
    "An orthographic representation is rendered in the sense of geography by depicting the globe in three-dimensional space, and then eliminating the z-coordinate. While removing the z-coordinate a rotation will be applied first. The effect is to create a map that resembles the globe “as viewed from infinitely far away”. In this sense, the viewpoint projection is a limiting case, when you glance at the sky, you obtain approximately an orthographic surface image. So, for scientific illustration, the same definition (and the same terminology) is used.. Three specific orthogonal views are typically used to make three different drawings. An “Isometric” projection is a special case where a rotation is first applied, so that in the final projection the coordinate axes form angles of 120 degree with each other. The result resembles a perspective view, but with the rear parts looking slightly enlarged. A “telecentric  lens” is a lens in photography which allows an orthographic projection on the focal plane. \n"
   ]
  },
  {
   "cell_type": "markdown",
   "metadata": {},
   "source": [
    "#### g) PCA vs LDA\n",
    "\n",
    "\n",
    "1. $PCA$ works with the data in its entirety for the study of the key components without taking special consideration to the underlying class structure whereas $LDA$ is specifically associated with deals discrimination between classes.\n",
    "\n",
    "\n",
    "2. $PCA$ is an unsupervised learning technique whereas $LDA$ is a supervised learning technique that focued on class labels.\n",
    "\n",
    "\n",
    "3. $PCA$ searches for the describes the largest variations whereas $LDA$ maximizes the correlation of the class variance and inside class variation.\n",
    "\n",
    "4. The path of greatest variance in $PCA$ is not generally the path of greatest discrimination, because there is no attempt to use class details, such as within class scatters and inside class scatters wheeas $LDA$ is assumed to determine the best path of discrimination since individual densities are Gaussian with the same covariance function for both groups.\n",
    "\n",
    "\n",
    "5. $PCA$ is less superior to  $LDA$ whereas $LDA$ is more superior to $PCA$\n",
    "\n",
    "\n",
    "6. $PCA$ needs less computations while $LDA$ demands considerably  more computations than $PCA$ for large datasets.\n",
    "\n",
    "\n",
    "7. The use of the $PCA$ in the influential area of criminal enforcement is useful, whereas the $LDA$ for diagnosis is related to issues with the detection of speech recognition."
   ]
  },
  {
   "cell_type": "markdown",
   "metadata": {},
   "source": [
    "# Implementation of PCA"
   ]
  },
  {
   "cell_type": "markdown",
   "metadata": {},
   "source": [
    "## Some Basic Theory"
   ]
  },
  {
   "cell_type": "markdown",
   "metadata": {},
   "source": [
    "## Orthogonal Projections"
   ]
  },
  {
   "cell_type": "markdown",
   "metadata": {},
   "source": [
    "projection of a vector $\\boldsymbol x$ onto a 1-dimensional subspace $U$ with basis vector $\\boldsymbol b$ we have\n",
    "\n",
    "$${\\pi_U}(\\boldsymbol x) = \\frac{\\boldsymbol b\\boldsymbol b^T}{{\\lVert\\boldsymbol  b \\rVert}^2}\\boldsymbol x $$\n",
    "\n",
    "And for the general projection onto an M-dimensional subspace $U$ with basis vectors $\\boldsymbol b_1,\\dotsc, \\boldsymbol b_M$ we have\n",
    "\n",
    "$${\\pi_U}(\\boldsymbol x) = \\boldsymbol B(\\boldsymbol B^T\\boldsymbol B)^{-1}\\boldsymbol B^T\\boldsymbol x $$\n",
    "\n",
    "where \n",
    "\n",
    "$$\\boldsymbol B = [\\boldsymbol b_1,...,\\boldsymbol b_M]$$"
   ]
  },
  {
   "cell_type": "markdown",
   "metadata": {},
   "source": [
    "In the below code, a vector $x$ and unit vector $b$ where $x$ is non-zero and not collinear with $b$ which returns an orthogonal matrix which maps $x$ into the line $b$. "
   ]
  },
  {
   "cell_type": "code",
   "execution_count": 1,
   "metadata": {},
   "outputs": [],
   "source": [
    "def project_1d(x, b):  \n",
    "    assert x.ndim == 1\n",
    "    assert np.allclose(1, np.sum(b**2))\n",
    "    \n",
    "    u = x - np.sign(x[0]) * np.linalg.norm(x) * b  \n",
    "    v = u / np.linalg.norm(u)\n",
    "    p = np.eye(len(x)) - 2 * np.outer(v, v)\n",
    "    \n",
    "    return p\n"
   ]
  },
  {
   "cell_type": "code",
   "execution_count": 2,
   "metadata": {},
   "outputs": [],
   "source": [
    "def projection_matrix_general(B):\n",
    " \n",
    "    n, m = B.shape\n",
    "    assert n >= m\n",
    "    \n",
    "    Q = np.eye(n)\n",
    "    R = B.copy()\n",
    "    \n",
    "    for i in range(m - int(n==m)):\n",
    "        r = R[i:, i]\n",
    "        \n",
    "        if np.allclose(r[1:], 0):\n",
    "            continue\n",
    "        b = np.zeros(n-i)\n",
    "        b[0] = 1  \n",
    "        \n",
    "        H = np.eye(n)\n",
    "        H[i:, i:] = project_1d(r, b)\n",
    "\n",
    "        Q = Q @ H.T\n",
    "        R = H @ R\n",
    "    \n",
    "    return Q, R"
   ]
  },
  {
   "cell_type": "markdown",
   "metadata": {},
   "source": [
    "Here we are using QR algorithms which is iterative at each step, ${B}_{K+1}$ by taking the QR decomposition of ${B}_{K}$, reversing the order of Q and R, and multiply the matrices together. We are doing this for each time because off diagonals get smaller."
   ]
  },
  {
   "cell_type": "code",
   "execution_count": 3,
   "metadata": {},
   "outputs": [],
   "source": [
    "def eig(B, max_iter=100):\n",
    "    B_k = B\n",
    "    Q_k = np.eye( B.shape[1] )    \n",
    "    for k in range(max_iter):\n",
    "        Q, R = projection_matrix_general(B_k)\n",
    "        Q_k = Q_k @ Q\n",
    "        B_k = R @ Q\n",
    "    eigenvalues = np.diag(B_k)\n",
    "    eigenvectors = Q_k\n",
    "    return eigenvalues, eigenvectors"
   ]
  },
  {
   "cell_type": "markdown",
   "metadata": {},
   "source": [
    "Assume that we are performing PCA on dataset. \n",
    "We then need to perform the following steps, which we break into parts:\n",
    "\n",
    "1. Data normalization (`normalize`).\n",
    "2. Find eigenvalues and corresponding eigenvectors for the covariance matrix\n",
    "   Sort by the largest eigenvalues and the corresponding eigenvectors (`eig`).\n",
    "\n",
    "After these steps, we can then compute the projection and reconstruction of the data onto the spaced spanned by the eigenvectors."
   ]
  },
  {
   "cell_type": "code",
   "execution_count": 4,
   "metadata": {},
   "outputs": [],
   "source": [
    "class PCA:\n",
    "    def __init__(self, num_components=None, whiten=False):\n",
    "        self.num_components = num_components\n",
    "        self.whiten = bool(whiten)\n",
    "\n",
    "    def fit(self, X):\n",
    "        n, m = X.shape\n",
    "        \n",
    "        # subtract off the mean to center the data.\n",
    "        self.mu = X.mean(axis=0)\n",
    "        X = X - self.mu\n",
    "        \n",
    "        # whiten if necessary\n",
    "        if self.whiten:\n",
    "            self.std = X.std(axis=0)\n",
    "            X = X / self.std\n",
    "        \n",
    "        # Eigen Decomposition of the covariance matrix\n",
    "        C = X.T @ X / (n-1)\n",
    "        self.eigenvalues, self.eigenvectors = projection_matrix_general(C)\n",
    "        \n",
    "        # truncate the number of components if doing dimensionality reduction\n",
    "        if self.num_components is not None:\n",
    "            self.eigenvalues = self.eigenvalues[0:self.num_components]\n",
    "            self.eigenvectors = self.eigenvectors[:, 0:self.num_components]\n",
    "        \n",
    "        # the QR algorithm tends to puts eigenvalues in descending order \n",
    "        # but is not guarenteed to. To make sure, we use argsort.\n",
    "        descending_order = np.flip(np.argsort(self.eigenvalues))\n",
    "        self.eigenvalues = self.eigenvalues[descending_order]\n",
    "        self.eigenvectors = self.eigenvectors[:, descending_order]\n",
    "\n",
    "        return self\n",
    "\n",
    "    def normalize(self, X):\n",
    "        X = X - self.mu\n",
    "        \n",
    "        if self.whiten:\n",
    "            X = X / self.std\n",
    "        \n",
    "        return X @ self.eigenvectors\n",
    "    \n",
    "    @property\n",
    "    def proportion_variance_explained(self):\n",
    "        return self.eigenvalues / np.sum(self.eigenvalues)"
   ]
  },
  {
   "cell_type": "markdown",
   "metadata": {},
   "source": [
    "## Why normalization is necessary in PCA?"
   ]
  },
  {
   "cell_type": "markdown",
   "metadata": {},
   "source": [
    "$$\\bar X =  \\frac{X - \\mu}{\\sigma}$$\n",
    "\n",
    "\n",
    "Ans:\n",
    "The term normalization is used in many contexts, with distinct, but related, meanings. Basically, normalizing means transforming so as to render normal.When data are seen as vectors, normalizing means transforming the vector so that it has unit norm. When data are though of as random variables, normalizing means transforming to normal distribution. When the data are hypothesized to be normal normalizing means transforming to unit variance. \n",
    "\n",
    "The main reason why normalization is necessaary in PCA is that the PCA calculates a new projection of dataset. So, the new axis is centered on the variables as standard variation. And,  the variable with a high standard deviation will have a higher weight for calculation of axis. So, a variable with a high standard deviation will have a higher weight than a variable with a low standard deviation for axis calculations. If the dara is normalize, then all the variables will have the same standard deviation  , thus both factors have the same weight, and the related dimension is determined by the PCA. "
   ]
  },
  {
   "cell_type": "markdown",
   "metadata": {},
   "source": [
    "###### Now, Lets use this idea using numpy 😊"
   ]
  },
  {
   "cell_type": "markdown",
   "metadata": {},
   "source": [
    "## Warning: Do not import other libraries ....!"
   ]
  },
  {
   "cell_type": "markdown",
   "metadata": {},
   "source": [
    "## Step 1: Load the data & required libraries\n",
    "\n",
    "We are using iris dataset which consists of three different types of irises they are Setosa, Versicolour, and Verginica which is petal and sepal length, stored in a 150 * 5 numpy.ndarray.\n",
    "\n",
    "\n",
    "The rows being the samples and the columns beign: Sepal length, Sepal Width, Petal Length and Petal Width. These measures were used to create a linear discriminant model to classify the species. The dataset is often used in data mining, classification and clustering examples and to test algorithms. \n"
   ]
  },
  {
   "cell_type": "code",
   "execution_count": 5,
   "metadata": {},
   "outputs": [],
   "source": [
    "%matplotlib inline\n",
    "import pandas as pd\n",
    "import matplotlib.pyplot as plt\n",
    "import numpy as np\n",
    "import seaborn as sns"
   ]
  },
  {
   "cell_type": "code",
   "execution_count": 6,
   "metadata": {},
   "outputs": [],
   "source": [
    "plt.style.use(\"ggplot\")\n",
    "plt.rcParams[\"figure.figsize\"] = (12, 8)"
   ]
  },
  {
   "cell_type": "markdown",
   "metadata": {},
   "source": [
    "## A sample of iris data in the dataset "
   ]
  },
  {
   "cell_type": "code",
   "execution_count": 8,
   "metadata": {},
   "outputs": [
    {
     "data": {
      "text/html": [
       "<div>\n",
       "<style scoped>\n",
       "    .dataframe tbody tr th:only-of-type {\n",
       "        vertical-align: middle;\n",
       "    }\n",
       "\n",
       "    .dataframe tbody tr th {\n",
       "        vertical-align: top;\n",
       "    }\n",
       "\n",
       "    .dataframe thead th {\n",
       "        text-align: right;\n",
       "    }\n",
       "</style>\n",
       "<table border=\"1\" class=\"dataframe\">\n",
       "  <thead>\n",
       "    <tr style=\"text-align: right;\">\n",
       "      <th></th>\n",
       "      <th>0</th>\n",
       "      <th>1</th>\n",
       "      <th>2</th>\n",
       "      <th>3</th>\n",
       "      <th>4</th>\n",
       "    </tr>\n",
       "  </thead>\n",
       "  <tbody>\n",
       "    <tr>\n",
       "      <th>0</th>\n",
       "      <td>5.1</td>\n",
       "      <td>3.5</td>\n",
       "      <td>1.4</td>\n",
       "      <td>0.2</td>\n",
       "      <td>Iris-setosa</td>\n",
       "    </tr>\n",
       "    <tr>\n",
       "      <th>1</th>\n",
       "      <td>4.9</td>\n",
       "      <td>3.0</td>\n",
       "      <td>1.4</td>\n",
       "      <td>0.2</td>\n",
       "      <td>Iris-setosa</td>\n",
       "    </tr>\n",
       "    <tr>\n",
       "      <th>2</th>\n",
       "      <td>4.7</td>\n",
       "      <td>3.2</td>\n",
       "      <td>1.3</td>\n",
       "      <td>0.2</td>\n",
       "      <td>Iris-setosa</td>\n",
       "    </tr>\n",
       "    <tr>\n",
       "      <th>3</th>\n",
       "      <td>4.6</td>\n",
       "      <td>3.1</td>\n",
       "      <td>1.5</td>\n",
       "      <td>0.2</td>\n",
       "      <td>Iris-setosa</td>\n",
       "    </tr>\n",
       "    <tr>\n",
       "      <th>4</th>\n",
       "      <td>5.0</td>\n",
       "      <td>3.6</td>\n",
       "      <td>1.4</td>\n",
       "      <td>0.2</td>\n",
       "      <td>Iris-setosa</td>\n",
       "    </tr>\n",
       "  </tbody>\n",
       "</table>\n",
       "</div>"
      ],
      "text/plain": [
       "     0    1    2    3            4\n",
       "0  5.1  3.5  1.4  0.2  Iris-setosa\n",
       "1  4.9  3.0  1.4  0.2  Iris-setosa\n",
       "2  4.7  3.2  1.3  0.2  Iris-setosa\n",
       "3  4.6  3.1  1.5  0.2  Iris-setosa\n",
       "4  5.0  3.6  1.4  0.2  Iris-setosa"
      ]
     },
     "execution_count": 8,
     "metadata": {},
     "output_type": "execute_result"
    }
   ],
   "source": [
    "iris = pd.read_csv(\"./iris.data\",\n",
    "                 header = None)\n",
    "iris.head()"
   ]
  },
  {
   "cell_type": "code",
   "execution_count": 9,
   "metadata": {},
   "outputs": [
    {
     "data": {
      "text/plain": [
       "(150, 5)"
      ]
     },
     "execution_count": 9,
     "metadata": {},
     "output_type": "execute_result"
    }
   ],
   "source": [
    "iris.shape"
   ]
  },
  {
   "cell_type": "markdown",
   "metadata": {},
   "source": [
    "## attribute to return the column labels of the given Dataframe"
   ]
  },
  {
   "cell_type": "code",
   "execution_count": 10,
   "metadata": {
    "scrolled": true
   },
   "outputs": [
    {
     "data": {
      "text/html": [
       "<div>\n",
       "<style scoped>\n",
       "    .dataframe tbody tr th:only-of-type {\n",
       "        vertical-align: middle;\n",
       "    }\n",
       "\n",
       "    .dataframe tbody tr th {\n",
       "        vertical-align: top;\n",
       "    }\n",
       "\n",
       "    .dataframe thead th {\n",
       "        text-align: right;\n",
       "    }\n",
       "</style>\n",
       "<table border=\"1\" class=\"dataframe\">\n",
       "  <thead>\n",
       "    <tr style=\"text-align: right;\">\n",
       "      <th></th>\n",
       "      <th>sepal_length</th>\n",
       "      <th>sepal_width</th>\n",
       "      <th>petal_length</th>\n",
       "      <th>petal_width</th>\n",
       "      <th>target_class</th>\n",
       "    </tr>\n",
       "  </thead>\n",
       "  <tbody>\n",
       "    <tr>\n",
       "      <th>0</th>\n",
       "      <td>5.1</td>\n",
       "      <td>3.5</td>\n",
       "      <td>1.4</td>\n",
       "      <td>0.2</td>\n",
       "      <td>Iris-setosa</td>\n",
       "    </tr>\n",
       "    <tr>\n",
       "      <th>1</th>\n",
       "      <td>4.9</td>\n",
       "      <td>3.0</td>\n",
       "      <td>1.4</td>\n",
       "      <td>0.2</td>\n",
       "      <td>Iris-setosa</td>\n",
       "    </tr>\n",
       "    <tr>\n",
       "      <th>2</th>\n",
       "      <td>4.7</td>\n",
       "      <td>3.2</td>\n",
       "      <td>1.3</td>\n",
       "      <td>0.2</td>\n",
       "      <td>Iris-setosa</td>\n",
       "    </tr>\n",
       "    <tr>\n",
       "      <th>3</th>\n",
       "      <td>4.6</td>\n",
       "      <td>3.1</td>\n",
       "      <td>1.5</td>\n",
       "      <td>0.2</td>\n",
       "      <td>Iris-setosa</td>\n",
       "    </tr>\n",
       "    <tr>\n",
       "      <th>4</th>\n",
       "      <td>5.0</td>\n",
       "      <td>3.6</td>\n",
       "      <td>1.4</td>\n",
       "      <td>0.2</td>\n",
       "      <td>Iris-setosa</td>\n",
       "    </tr>\n",
       "  </tbody>\n",
       "</table>\n",
       "</div>"
      ],
      "text/plain": [
       "   sepal_length  sepal_width  petal_length  petal_width target_class\n",
       "0           5.1          3.5           1.4          0.2  Iris-setosa\n",
       "1           4.9          3.0           1.4          0.2  Iris-setosa\n",
       "2           4.7          3.2           1.3          0.2  Iris-setosa\n",
       "3           4.6          3.1           1.5          0.2  Iris-setosa\n",
       "4           5.0          3.6           1.4          0.2  Iris-setosa"
      ]
     },
     "execution_count": 10,
     "metadata": {},
     "output_type": "execute_result"
    }
   ],
   "source": [
    "iris.columns = [\"sepal_length\", \"sepal_width\", \"petal_length\", \"petal_width\", \"target_class\"]\n",
    "iris.dropna(how ='all', inplace = True)\n",
    "iris.head()"
   ]
  },
  {
   "cell_type": "markdown",
   "metadata": {},
   "source": [
    "## To get a concise summary of the dataframe"
   ]
  },
  {
   "cell_type": "code",
   "execution_count": 11,
   "metadata": {},
   "outputs": [
    {
     "name": "stdout",
     "output_type": "stream",
     "text": [
      "<class 'pandas.core.frame.DataFrame'>\n",
      "Int64Index: 150 entries, 0 to 149\n",
      "Data columns (total 5 columns):\n",
      "sepal_length    150 non-null float64\n",
      "sepal_width     150 non-null float64\n",
      "petal_length    150 non-null float64\n",
      "petal_width     150 non-null float64\n",
      "target_class    150 non-null object\n",
      "dtypes: float64(4), object(1)\n",
      "memory usage: 7.0+ KB\n"
     ]
    }
   ],
   "source": [
    "iris.info()"
   ]
  },
  {
   "cell_type": "markdown",
   "metadata": {},
   "source": [
    "# Step 2: Data Visualization"
   ]
  },
  {
   "cell_type": "code",
   "execution_count": 12,
   "metadata": {},
   "outputs": [
    {
     "data": {
      "text/plain": [
       "<matplotlib.axes._subplots.AxesSubplot at 0x255b8e2a588>"
      ]
     },
     "execution_count": 12,
     "metadata": {},
     "output_type": "execute_result"
    },
    {
     "data": {
      "image/png": "[encoded data removed]",
      "text/plain": [
       "<Figure size 864x576 with 1 Axes>"
      ]
     },
     "metadata": {},
     "output_type": "display_data"
    }
   ],
   "source": [
    "sns.scatterplot(x = iris.sepal_length, y=iris.sepal_width,hue = iris.target_class, style = iris.target_class)"
   ]
  },
  {
   "cell_type": "code",
   "execution_count": 13,
   "metadata": {},
   "outputs": [
    {
     "data": {
      "image/png": "[encoded data removed]",
      "text/plain": [
       "<Figure size 864x576 with 1 Axes>"
      ]
     },
     "metadata": {},
     "output_type": "display_data"
    }
   ],
   "source": [
    "sns.scatterplot(x = iris.petal_length, y = iris.petal_width,\n",
    "                hue = iris.target_class, style = iris.target_class);"
   ]
  },
  {
   "cell_type": "markdown",
   "metadata": {},
   "source": [
    "# Step 3: Data Pre-Processing"
   ]
  },
  {
   "cell_type": "code",
   "execution_count": 14,
   "metadata": {},
   "outputs": [],
   "source": [
    "from sklearn.preprocessing import StandardScaler\n",
    "X = iris.iloc[:, 0:4].values\n",
    "y = iris.target_class.values\n",
    "\n",
    "X = StandardScaler().fit_transform(X)"
   ]
  },
  {
   "cell_type": "markdown",
   "metadata": {},
   "source": [
    "# Step 4: Computaion of Eigen Values & Eigen Vectors"
   ]
  },
  {
   "cell_type": "markdown",
   "metadata": {},
   "source": [
    "Covariance: $\\sigma_{jk} = \\frac{1}{n-1}\\sum_{i=1}^{N}(x_{ij}-\\bar{x_j})(x_{ik}-\\bar{x_k})$\n",
    "\n",
    "Coviance matrix: $Σ = \\frac{1}{n-1}((X-\\bar{x})^T(X-\\bar{x}))$"
   ]
  },
  {
   "cell_type": "code",
   "execution_count": 15,
   "metadata": {},
   "outputs": [
    {
     "name": "stdout",
     "output_type": "stream",
     "text": [
      "Covariance matrix:\n",
      " [[ 1.00671141 -0.11010327  0.87760486  0.82344326]\n",
      " [-0.11010327  1.00671141 -0.42333835 -0.358937  ]\n",
      " [ 0.87760486 -0.42333835  1.00671141  0.96921855]\n",
      " [ 0.82344326 -0.358937    0.96921855  1.00671141]]\n"
     ]
    }
   ],
   "source": [
    "covariance_matrix = np.cov(X.T)\n",
    "print(\"Covariance matrix:\\n\", covariance_matrix)\n"
   ]
  },
  {
   "cell_type": "markdown",
   "metadata": {},
   "source": [
    "## Checking each features has unit variance before applying PCA\n",
    "\n",
    "\n",
    "Here, Just for the purposes of this visulization, we will manually see the characteristics if they are in same scale or not. "
   ]
  },
  {
   "cell_type": "code",
   "execution_count": 16,
   "metadata": {},
   "outputs": [
    {
     "data": {
      "text/plain": [
       "<matplotlib.colorbar.Colorbar at 0x255baab86a0>"
      ]
     },
     "execution_count": 16,
     "metadata": {},
     "output_type": "execute_result"
    },
    {
     "data": {
      "image/png": "[encoded data removed]",
      "text/plain": [
       "<Figure size 432x432 with 2 Axes>"
      ]
     },
     "metadata": {},
     "output_type": "display_data"
    }
   ],
   "source": [
    "X_data = (X - X.mean(axis=0))/X.std(axis=0)\n",
    "C = X_data.T @ X_data / (X_data.shape[0] - 1)\n",
    "plt.figure(figsize=(6,6))\n",
    "plt.imshow(C, cmap='binary')\n",
    "plt.title(\"Covariance Matrix of Iris Data\")\n",
    "plt.xticks(np.arange(0, 13, 1))\n",
    "plt.yticks(np.arange(0, 13, 1))\n",
    "plt.colorbar()"
   ]
  },
  {
   "cell_type": "markdown",
   "metadata": {},
   "source": [
    "We can prove it by looking at the covariance matrix. It has the property that it is symmetric.\n",
    "We also constrain the each of the columns (eigenvectors) such that the values sum to 1. \n",
    "Thus, they are orthonormal to each other.\n",
    "\n",
    "Eigen decomposition of covariance matrix : $Σ = W\\wedge W^{-1}$\n",
    "\n",
    "W is the matrix composed by total eigenvectors, $\\wedge$ is the diagonal matrix with all eigenvalues in diagonal.  "
   ]
  },
  {
   "cell_type": "markdown",
   "metadata": {},
   "source": [
    "IT is clear from this plot that above dataset exhibits significant multicollinearity. Every feature exhibiting high correlations with several others; no feature is truly independent. While that would be a bad thing for say, linear regression, it means these data are an ideal candidate for PCA."
   ]
  },
  {
   "cell_type": "code",
   "execution_count": 17,
   "metadata": {},
   "outputs": [
    {
     "data": {
      "image/png": "[encoded data removed]",
      "text/plain": [
       "<Figure size 864x576 with 1 Axes>"
      ]
     },
     "metadata": {},
     "output_type": "display_data"
    }
   ],
   "source": [
    "sns.countplot(y=iris.target_class ,data=iris)\n",
    "plt.xlabel(\"Count of each Target class\")\n",
    "plt.ylabel(\"Target classes\")\n",
    "plt.show()"
   ]
  },
  {
   "cell_type": "code",
   "execution_count": 18,
   "metadata": {},
   "outputs": [
    {
     "name": "stdout",
     "output_type": "stream",
     "text": [
      "Eigenvectors:\n",
      " [[ 0.52237162 -0.37231836 -0.72101681  0.26199559]\n",
      " [-0.26335492 -0.92555649  0.24203288 -0.12413481]\n",
      " [ 0.58125401 -0.02109478  0.14089226 -0.80115427]\n",
      " [ 0.56561105 -0.06541577  0.6338014   0.52354627]] \n",
      "\n",
      "Eigenvalues:\n",
      " [2.93035378 0.92740362 0.14834223 0.02074601]\n"
     ]
    }
   ],
   "source": [
    "#calculate eigen_values, eigen_vectors using numpy\n",
    "eigen_values, eigen_vectors = np.linalg.eig(covariance_matrix)\n",
    "print(\"Eigenvectors:\\n\", eigen_vectors, \"\\n\")\n",
    "print(\"Eigenvalues:\\n\", eigen_values)"
   ]
  },
  {
   "cell_type": "markdown",
   "metadata": {},
   "source": [
    "# Step 5: Singular Value Decomposition (SVD)"
   ]
  },
  {
   "cell_type": "markdown",
   "metadata": {},
   "source": [
    "This is basically used to diagonalize the feature matrix when it is not a square matrix."
   ]
  },
  {
   "cell_type": "code",
   "execution_count": 19,
   "metadata": {},
   "outputs": [
    {
     "name": "stdout",
     "output_type": "stream",
     "text": [
      "Eigenvectors \n",
      " [[-0.52237162 -0.37231836  0.72101681  0.26199559]\n",
      " [ 0.26335492 -0.92555649 -0.24203288 -0.12413481]\n",
      " [-0.58125401 -0.02109478 -0.14089226 -0.80115427]\n",
      " [-0.56561105 -0.06541577 -0.6338014   0.52354627]] \n",
      "\n"
     ]
    }
   ],
   "source": [
    "evec_svd, s, v = np.linalg.svd(X.T)\n",
    "print(\"Eigenvectors \\n\", evec_svd, \"\\n\")\n",
    "\n",
    "#here, we just interested in directions of vector, so sign doesn't matter"
   ]
  },
  {
   "cell_type": "markdown",
   "metadata": {},
   "source": [
    "#### What is major difference between EVD & SVD?\n",
    "\n",
    "Consider Eigen Value Decompositio $A = {PDP}^{-1}$ and <br> Single Value Decomposition SVD $(A) = {UΣV}^{*}$ \n",
    "\n",
    "The major difference of EVD and SVD is that in the SVD the entries in the diagonal matrix Σ are all real and nonnegative. In the eigendecomposition, the entries of D can be any complex number - negative, positive, imaginary, whatever."
   ]
  },
  {
   "cell_type": "markdown",
   "metadata": {},
   "source": [
    "# Step 6: Picking Principal Components Using the Explained Variance"
   ]
  },
  {
   "cell_type": "code",
   "execution_count": 20,
   "metadata": {},
   "outputs": [
    {
     "name": "stdout",
     "output_type": "stream",
     "text": [
      "2.9303537755893165\n",
      "0.9274036215173417\n",
      "0.1483422264816399\n",
      "0.02074601399559571\n"
     ]
    }
   ],
   "source": [
    "for val in eigen_values:\n",
    "    print(val)"
   ]
  },
  {
   "cell_type": "code",
   "execution_count": 21,
   "metadata": {},
   "outputs": [
    {
     "data": {
      "text/plain": [
       "array([[-0.52237162, -0.37231836,  0.72101681,  0.26199559],\n",
       "       [ 0.26335492, -0.92555649, -0.24203288, -0.12413481],\n",
       "       [-0.58125401, -0.02109478, -0.14089226, -0.80115427],\n",
       "       [-0.56561105, -0.06541577, -0.6338014 ,  0.52354627]])"
      ]
     },
     "execution_count": 21,
     "metadata": {},
     "output_type": "execute_result"
    }
   ],
   "source": [
    "eigen_vec_svd, _, _= np.linalg.svd(X.T)\n",
    "eigen_vec_svd"
   ]
  },
  {
   "cell_type": "code",
   "execution_count": 22,
   "metadata": {},
   "outputs": [
    {
     "name": "stdout",
     "output_type": "stream",
     "text": [
      "Variance Explained: \n",
      " [72.77045209380134, 23.030523267680643, 3.683831957627389, 0.5151926808906266]\n"
     ]
    }
   ],
   "source": [
    "variance_explained = [(i/sum(eigen_values))*100 for i in eigen_values]\n",
    "print(\"Variance Explained: \\n\", variance_explained)\n",
    "\n",
    "#72% variance in our data is explained by the first eigen-value i.e, 2.930..."
   ]
  },
  {
   "cell_type": "code",
   "execution_count": 23,
   "metadata": {
    "scrolled": true
   },
   "outputs": [
    {
     "data": {
      "image/png": "[encoded data removed]",
      "text/plain": [
       "<Figure size 432x288 with 1 Axes>"
      ]
     },
     "metadata": {},
     "output_type": "display_data"
    }
   ],
   "source": [
    "with plt.style.context('dark_background'):\n",
    "    plt.figure(figsize=(6, 4))\n",
    "\n",
    "    plt.bar(range(4), variance_explained, alpha=0.5, align='center',\n",
    "            label='individual explained variance')\n",
    "    plt.ylabel('Explained variance ratio')\n",
    "    plt.xlabel('Principal components')\n",
    "    plt.legend(loc='best')\n",
    "    plt.tight_layout()"
   ]
  },
  {
   "cell_type": "code",
   "execution_count": 24,
   "metadata": {},
   "outputs": [
    {
     "name": "stdout",
     "output_type": "stream",
     "text": [
      "[ 72.77045209  95.80097536  99.48480732 100.        ]\n"
     ]
    }
   ],
   "source": [
    "cumulative_variance_explained = np.cumsum(variance_explained)\n",
    "print(cumulative_variance_explained)\n",
    "\n",
    "#If we used only 1st eigen value to choose principal components, We will be able to capture 72% of our data.\n",
    "# If we choose 2 eigen values, 95% is handled and so on..."
   ]
  },
  {
   "cell_type": "code",
   "execution_count": 25,
   "metadata": {},
   "outputs": [
    {
     "data": {
      "image/png": "[encoded data removed]",
      "text/plain": [
       "<Figure size 432x288 with 1 Axes>"
      ]
     },
     "metadata": {},
     "output_type": "display_data"
    }
   ],
   "source": [
    "with plt.style.context('dark_background'):\n",
    "    plt.figure(figsize=(6, 4))\n",
    "\n",
    "    plt.bar(range(4), cumulative_variance_explained, alpha=0.5, align='center',\n",
    "            label='individual explained comulative variance')\n",
    "    plt.ylabel('Explained variance ratio')\n",
    "    plt.xlabel('Principal components')\n",
    "    plt.legend(loc='best')\n",
    "    plt.tight_layout()"
   ]
  },
  {
   "cell_type": "code",
   "execution_count": 26,
   "metadata": {},
   "outputs": [
    {
     "data": {
      "image/png": "[encoded data removed]",
      "text/plain": [
       "<Figure size 864x576 with 1 Axes>"
      ]
     },
     "metadata": {},
     "output_type": "display_data"
    }
   ],
   "source": [
    "sns.lineplot(x = [1, 2, 3, 4], y = cumulative_variance_explained)\n",
    "plt.xlabel ('Number of Components')\n",
    "plt.ylabel('Cumulative Variance')\n",
    "plt.show()"
   ]
  },
  {
   "cell_type": "markdown",
   "metadata": {},
   "source": [
    "# Step 7: Project Data onto Lower Dimensional Linear Subspace"
   ]
  },
  {
   "cell_type": "code",
   "execution_count": 27,
   "metadata": {},
   "outputs": [
    {
     "name": "stdout",
     "output_type": "stream",
     "text": [
      "[ 0.52237162 -0.37231836 -0.72101681  0.26199559]\n",
      "[-0.26335492 -0.92555649  0.24203288 -0.12413481]\n",
      "[ 0.58125401 -0.02109478  0.14089226 -0.80115427]\n",
      "[ 0.56561105 -0.06541577  0.6338014   0.52354627]\n"
     ]
    }
   ],
   "source": [
    "for val in eigen_vectors:\n",
    "    print(val)"
   ]
  },
  {
   "cell_type": "code",
   "execution_count": 28,
   "metadata": {},
   "outputs": [
    {
     "data": {
      "text/plain": [
       "array([[ 0.52237162, -0.37231836],\n",
       "       [-0.26335492, -0.92555649],\n",
       "       [ 0.58125401, -0.02109478],\n",
       "       [ 0.56561105, -0.06541577]])"
      ]
     },
     "execution_count": 28,
     "metadata": {},
     "output_type": "execute_result"
    }
   ],
   "source": [
    "aa = eigen_vectors.T[:][:]\n",
    "bb = aa[:2]\n",
    "projection_matrix = bb.T\n",
    "projection_matrix"
   ]
  },
  {
   "cell_type": "code",
   "execution_count": 29,
   "metadata": {},
   "outputs": [
    {
     "data": {
      "text/plain": [
       "array([[-2.26454173e+00, -5.05703903e-01],\n",
       "       [-2.08642550e+00,  6.55404729e-01],\n",
       "       [-2.36795045e+00,  3.18477311e-01],\n",
       "       [-2.30419716e+00,  5.75367713e-01],\n",
       "       [-2.38877749e+00, -6.74767397e-01],\n",
       "       [-2.07053681e+00, -1.51854856e+00],\n",
       "       [-2.44571134e+00, -7.45626750e-02],\n",
       "       [-2.23384186e+00, -2.47613932e-01],\n",
       "       [-2.34195768e+00,  1.09514636e+00],\n",
       "       [-2.18867576e+00,  4.48629048e-01],\n",
       "       [-2.16348656e+00, -1.07059558e+00],\n",
       "       [-2.32737775e+00, -1.58587455e-01],\n",
       "       [-2.22408272e+00,  7.09118158e-01],\n",
       "       [-2.63971626e+00,  9.38281982e-01],\n",
       "       [-2.19229151e+00, -1.88997851e+00],\n",
       "       [-2.25146521e+00, -2.72237108e+00],\n",
       "       [-2.20275048e+00, -1.51375028e+00],\n",
       "       [-2.19017916e+00, -5.14304308e-01],\n",
       "       [-1.89407429e+00, -1.43111071e+00],\n",
       "       [-2.33994907e+00, -1.15803343e+00],\n",
       "       [-1.91455639e+00, -4.30465163e-01],\n",
       "       [-2.20464540e+00, -9.52457317e-01],\n",
       "       [-2.77416979e+00, -4.89517027e-01],\n",
       "       [-1.82041156e+00, -1.06750793e-01],\n",
       "       [-2.22821750e+00, -1.62186163e-01],\n",
       "       [-1.95702401e+00,  6.07892567e-01],\n",
       "       [-2.05206331e+00, -2.66014312e-01],\n",
       "       [-2.16819365e+00, -5.52016495e-01],\n",
       "       [-2.14030596e+00, -3.36640409e-01],\n",
       "       [-2.26879019e+00,  3.14878603e-01],\n",
       "       [-2.14455443e+00,  4.83942097e-01],\n",
       "       [-1.83193810e+00, -4.45266836e-01],\n",
       "       [-2.60820287e+00, -1.82847519e+00],\n",
       "       [-2.43795086e+00, -2.18539162e+00],\n",
       "       [-2.18867576e+00,  4.48629048e-01],\n",
       "       [-2.21111990e+00,  1.84337811e-01],\n",
       "       [-2.04441652e+00, -6.84956426e-01],\n",
       "       [-2.18867576e+00,  4.48629048e-01],\n",
       "       [-2.43595220e+00,  8.82169415e-01],\n",
       "       [-2.17054720e+00, -2.92726955e-01],\n",
       "       [-2.28652724e+00, -4.67991716e-01],\n",
       "       [-1.87170722e+00,  2.32769161e+00],\n",
       "       [-2.55783442e+00,  4.53816380e-01],\n",
       "       [-1.96427929e+00, -4.97391640e-01],\n",
       "       [-2.13337283e+00, -1.17143211e+00],\n",
       "       [-2.07535759e+00,  6.91917347e-01],\n",
       "       [-2.38125822e+00, -1.15063259e+00],\n",
       "       [-2.39819169e+00,  3.62390765e-01],\n",
       "       [-2.22678121e+00, -1.02548255e+00],\n",
       "       [-2.20595417e+00, -3.22378453e-02],\n",
       "       [ 1.10399365e+00, -8.63112446e-01],\n",
       "       [ 7.32481440e-01, -5.98635573e-01],\n",
       "       [ 1.24210951e+00, -6.14822450e-01],\n",
       "       [ 3.97307283e-01,  1.75816895e+00],\n",
       "       [ 1.07259395e+00,  2.11757903e-01],\n",
       "       [ 3.84458146e-01,  5.91062469e-01],\n",
       "       [ 7.48715076e-01, -7.78698611e-01],\n",
       "       [-4.97863388e-01,  1.84886877e+00],\n",
       "       [ 9.26222368e-01, -3.03308268e-02],\n",
       "       [ 4.96802558e-03,  1.02940111e+00],\n",
       "       [-1.24697461e-01,  2.65806268e+00],\n",
       "       [ 4.38730118e-01,  5.88812850e-02],\n",
       "       [ 5.51633981e-01,  1.77258156e+00],\n",
       "       [ 7.17165066e-01,  1.85434315e-01],\n",
       "       [-3.72583830e-02,  4.32795099e-01],\n",
       "       [ 8.75890536e-01, -5.09998151e-01],\n",
       "       [ 3.48006402e-01,  1.90621647e-01],\n",
       "       [ 1.53392545e-01,  7.90725456e-01],\n",
       "       [ 1.21530321e+00,  1.63335564e+00],\n",
       "       [ 1.56941176e-01,  1.30310327e+00],\n",
       "       [ 7.38256104e-01, -4.02470382e-01],\n",
       "       [ 4.72369682e-01,  4.16608222e-01],\n",
       "       [ 1.22798821e+00,  9.40914793e-01],\n",
       "       [ 6.29381045e-01,  4.16811643e-01],\n",
       "       [ 7.00472799e-01,  6.34939277e-02],\n",
       "       [ 8.73536987e-01, -2.50708611e-01],\n",
       "       [ 1.25422219e+00,  8.26200998e-02],\n",
       "       [ 1.35823985e+00, -3.28820266e-01],\n",
       "       [ 6.62126138e-01,  2.24346071e-01],\n",
       "       [-4.72815133e-02,  1.05721241e+00],\n",
       "       [ 1.21534209e-01,  1.56359238e+00],\n",
       "       [ 1.41182261e-02,  1.57339235e+00],\n",
       "       [ 2.36010837e-01,  7.75923784e-01],\n",
       "       [ 1.05669143e+00,  6.36901284e-01],\n",
       "       [ 2.21417088e-01,  2.80847693e-01],\n",
       "       [ 4.31783161e-01, -8.55136920e-01],\n",
       "       [ 1.04941336e+00, -5.22197265e-01],\n",
       "       [ 1.03587821e+00,  1.39246648e+00],\n",
       "       [ 6.70675999e-02,  2.12620735e-01],\n",
       "       [ 2.75425066e-01,  1.32981591e+00],\n",
       "       [ 2.72335066e-01,  1.11944152e+00],\n",
       "       [ 6.23170540e-01, -2.75426333e-02],\n",
       "       [ 3.30005364e-01,  9.88900732e-01],\n",
       "       [-3.73627623e-01,  2.01793227e+00],\n",
       "       [ 2.82944343e-01,  8.53950717e-01],\n",
       "       [ 8.90531103e-02,  1.74908548e-01],\n",
       "       [ 2.24356783e-01,  3.80484659e-01],\n",
       "       [ 5.73883486e-01,  1.53719974e-01],\n",
       "       [-4.57012873e-01,  1.53946451e+00],\n",
       "       [ 2.52244473e-01,  5.95860746e-01],\n",
       "       [ 1.84767259e+00, -8.71696662e-01],\n",
       "       [ 1.15318981e+00,  7.01326114e-01],\n",
       "       [ 2.20634950e+00, -5.54470105e-01],\n",
       "       [ 1.43868540e+00,  5.00105223e-02],\n",
       "       [ 1.86789070e+00, -2.91192802e-01],\n",
       "       [ 2.75419671e+00, -7.88432206e-01],\n",
       "       [ 3.58374475e-01,  1.56009458e+00],\n",
       "       [ 2.30300590e+00, -4.09516695e-01],\n",
       "       [ 2.00173530e+00,  7.23865359e-01],\n",
       "       [ 2.26755460e+00, -1.92144299e+00],\n",
       "       [ 1.36590943e+00, -6.93948040e-01],\n",
       "       [ 1.59906459e+00,  4.28248836e-01],\n",
       "       [ 1.88425185e+00, -4.14332758e-01],\n",
       "       [ 1.25308651e+00,  1.16739134e+00],\n",
       "       [ 1.46406152e+00,  4.44147569e-01],\n",
       "       [ 1.59180930e+00, -6.77035372e-01],\n",
       "       [ 1.47128019e+00, -2.53192472e-01],\n",
       "       [ 2.43737848e+00, -2.55675734e+00],\n",
       "       [ 3.30914118e+00,  2.36132010e-03],\n",
       "       [ 1.25398099e+00,  1.71758384e+00],\n",
       "       [ 2.04049626e+00, -9.07398765e-01],\n",
       "       [ 9.73915114e-01,  5.71174376e-01],\n",
       "       [ 2.89806444e+00, -3.97791359e-01],\n",
       "       [ 1.32919369e+00,  4.86760542e-01],\n",
       "       [ 1.70424071e+00, -1.01414842e+00],\n",
       "       [ 1.95772766e+00, -1.00333452e+00],\n",
       "       [ 1.17190451e+00,  3.18896617e-01],\n",
       "       [ 1.01978105e+00, -6.55429631e-02],\n",
       "       [ 1.78600886e+00,  1.93272800e-01],\n",
       "       [ 1.86477791e+00, -5.55381532e-01],\n",
       "       [ 2.43549739e+00, -2.46654468e-01],\n",
       "       [ 2.31608241e+00, -2.62618387e+00],\n",
       "       [ 1.86037143e+00,  1.84672394e-01],\n",
       "       [ 1.11127173e+00,  2.95986102e-01],\n",
       "       [ 1.19746916e+00,  8.17167742e-01],\n",
       "       [ 2.80094940e+00, -8.44748194e-01],\n",
       "       [ 1.58015525e+00, -1.07247450e+00],\n",
       "       [ 1.34704442e+00, -4.22255966e-01],\n",
       "       [ 9.23432978e-01, -1.92303705e-02],\n",
       "       [ 1.85355198e+00, -6.72422729e-01],\n",
       "       [ 2.01615720e+00, -6.10397038e-01],\n",
       "       [ 1.90311686e+00, -6.86024832e-01],\n",
       "       [ 1.15318981e+00,  7.01326114e-01],\n",
       "       [ 2.04330844e+00, -8.64684880e-01],\n",
       "       [ 2.00169097e+00, -1.04855005e+00],\n",
       "       [ 1.87052207e+00, -3.82821838e-01],\n",
       "       [ 1.55849189e+00,  9.05313601e-01],\n",
       "       [ 1.52084506e+00, -2.66794575e-01],\n",
       "       [ 1.37639119e+00, -1.01636193e+00],\n",
       "       [ 9.59298576e-01,  2.22839447e-02]])"
      ]
     },
     "execution_count": 29,
     "metadata": {},
     "output_type": "execute_result"
    }
   ],
   "source": [
    "x_pca = X.dot(projection_matrix)\n",
    "x_pca"
   ]
  },
  {
   "cell_type": "code",
   "execution_count": 30,
   "metadata": {},
   "outputs": [
    {
     "data": {
      "image/png": "[encoded data removed]",
      "text/plain": [
       "<Figure size 864x576 with 1 Axes>"
      ]
     },
     "metadata": {},
     "output_type": "display_data"
    }
   ],
   "source": [
    "for target_class in ('Iris-setosa', 'Iris-versicolor', 'Iris-virginica'):\n",
    "    sns.scatterplot (x_pca[y == target_class, 0], \n",
    "                     x_pca[y == target_class, 1])"
   ]
  },
  {
   "cell_type": "markdown",
   "metadata": {},
   "source": [
    "# Can we classify after dimensionality reduction?"
   ]
  },
  {
   "cell_type": "markdown",
   "metadata": {},
   "source": [
    "https://towardsdatascience.com/dimensionality-reduction-does-pca-really-improve-classification-outcome-6e9ba21f0a32"
   ]
  },
  {
   "cell_type": "markdown",
   "metadata": {},
   "source": [
    "In the modern scientific era, increasing quantities of data are being produced and collected. How, in machine learning, too much data can be a bad thing. At a certain level, additional features or dimensions will decrease the precision of a model, because more data has to be generalized. Thus, this is recognized as the \"Curse of dimensionality\". \n",
    "\n",
    "Dimensionality Reduction is a way to reduce a model's difficulty and prevent overfitting. Feature Selection and Feature Extraction are two main types of dimensionality reduction. We choose a subset of the original features by selecting a feature, while in feature extraction we draw knowledge from the component set to create a new feature subspace. Extraction of features is not only used to improve storage space or the learning algorithm's computational efficiency, but can also improve predictive performance by reducing the dimensionality curse — especially if we are working with non-regularized models. Also Linear Discriminant Analysis (LDA) and Principal Component Analysis (PCA) are the two key dimensional reduction algorithms. \n",
    "\n",
    "\n",
    "Classification of high-dimensional data, such as photographs, data on gene expression and spectral data, presents an important challenge to machine learning as predictive models based on these data run the risk of over-fitting or the existence of a large number of redundant or strongly associated attributes will significantly degrade classification accuracy. The goal is therefore to use PCA algorithms to the high dimensional data and to boost the predictive efficiency of several well-known machine learning algorithms. In other words, PCA is a classic computational approach for converting dataset attributes into a new collection of uncorrelated attributes called Principal Components, which increases the efficiency of machine learning when processing high-dimensional data. In simple terms, what we can say is that, PCA finds a new, lower dimensional orthonormal base such that the largest variance of the original data is kept. In addition, these low errors have been achieved through PCA, despite a significant reduction in data from the original attributes to at least the minimum attributes. In addition, more than 20 PCs are expected to find the optimum data set because the efficiency of the majority classifiers is decreasing with a growing number of PCs.  \n",
    "\n",
    "The PCA was particularly suited to the proposed approach, since it does not require the generation of all PCs with a data matrix, in contrast to the widely used proprietary decomposition methods and the first-derived pre-processing technique followed by standardization, it improves the performance of the majority of the classification tasks in machine learning.\n",
    "\n",
    "###### Question may arise: what if we used data mining techniques for large dataset without PCA?\n",
    "\n",
    "This is because smaller datasets are much easier to visualize and explore and analyze data for machine learning algorithms without extraneous variables to process. The premises underlying the PCA are causal, so the definition is only accurate if the assumptions are correct. PCA computation on nonlinear data or broad dataset would then have little significance, only decomposing to the dominant linear nodes a global linear representation of the distribution of data is given.\n",
    "\n"
   ]
  }
 ],
 "metadata": {
  "kernelspec": {
   "display_name": "Python 3",
   "language": "python",
   "name": "python3"
  },
  "language_info": {
   "codemirror_mode": {
    "name": "ipython",
    "version": 3
   },
   "file_extension": ".py",
   "mimetype": "text/x-python",
   "name": "python",
   "nbconvert_exporter": "python",
   "pygments_lexer": "ipython3",
   "version": "3.7.3"
  }
 },
 "nbformat": 4,
 "nbformat_minor": 4
}
